{
 "cells": [
  {
   "cell_type": "markdown",
   "metadata": {
    "collapsed": true,
    "deletable": true,
    "editable": true
   },
   "source": [
    "# Image Classification\n",
    "In this project, you'll classify images from the [CIFAR-10 dataset](https://www.cs.toronto.edu/~kriz/cifar.html).  The dataset consists of airplanes, dogs, cats, and other objects. You'll preprocess the images, then train a convolutional neural network on all the samples. The images need to be normalized and the labels need to be one-hot encoded.  You'll get to apply what you learned and build a convolutional, max pooling, dropout, and fully connected layers.  At the end, you'll get to see your neural network's predictions on the sample images.\n",
    "## Get the Data\n",
    "Run the following cell to download the [CIFAR-10 dataset for python](https://www.cs.toronto.edu/~kriz/cifar-10-python.tar.gz)."
   ]
  },
  {
   "cell_type": "code",
   "execution_count": null,
   "metadata": {
    "collapsed": false,
    "deletable": true,
    "editable": true
   },
   "outputs": [],
   "source": [
    "\"\"\"\n",
    "DON'T MODIFY ANYTHING IN THIS CELL THAT IS BELOW THIS LINE\n",
    "\"\"\"\n",
    "from urllib.request import urlretrieve\n",
    "from os.path import isfile, isdir\n",
    "from tqdm import tqdm\n",
    "import problem_unittests as tests\n",
    "import tarfile\n",
    "\n",
    "cifar10_dataset_folder_path = 'cifar-10-batches-py'\n",
    "\n",
    "class DLProgress(tqdm):\n",
    "    last_block = 0\n",
    "\n",
    "    def hook(self, block_num=1, block_size=1, total_size=None):\n",
    "        self.total = total_size\n",
    "        self.update((block_num - self.last_block) * block_size)\n",
    "        self.last_block = block_num\n",
    "\n",
    "if not isfile('cifar-10-python.tar.gz'):\n",
    "    with DLProgress(unit='B', unit_scale=True, miniters=1, desc='CIFAR-10 Dataset') as pbar:\n",
    "        urlretrieve(\n",
    "            'https://www.cs.toronto.edu/~kriz/cifar-10-python.tar.gz',\n",
    "            'cifar-10-python.tar.gz',\n",
    "            pbar.hook)\n",
    "\n",
    "if not isdir(cifar10_dataset_folder_path):\n",
    "    with tarfile.open('cifar-10-python.tar.gz') as tar:\n",
    "        tar.extractall()\n",
    "        tar.close()\n",
    "\n",
    "\n",
    "tests.test_folder_path(cifar10_dataset_folder_path)"
   ]
  },
  {
   "cell_type": "markdown",
   "metadata": {
    "deletable": true,
    "editable": true
   },
   "source": [
    "## Explore the Data\n",
    "The dataset is broken into batches to prevent your machine from running out of memory.  The CIFAR-10 dataset consists of 5 batches, named `data_batch_1`, `data_batch_2`, etc.. Each batch contains the labels and images that are one of the following:\n",
    "* airplane\n",
    "* automobile\n",
    "* bird\n",
    "* cat\n",
    "* deer\n",
    "* dog\n",
    "* frog\n",
    "* horse\n",
    "* ship\n",
    "* truck\n",
    "\n",
    "Understanding a dataset is part of making predictions on the data.  Play around with the code cell below by changing the `batch_id` and `sample_id`. The `batch_id` is the id for a batch (1-5). The `sample_id` is the id for a image and label pair in the batch.\n",
    "\n",
    "Ask yourself \"What are all possible labels?\", \"What is the range of values for the image data?\", \"Are the labels in order or random?\".  Answers to questions like these will help you preprocess the data and end up with better predictions."
   ]
  },
  {
   "cell_type": "code",
   "execution_count": null,
   "metadata": {
    "collapsed": false,
    "deletable": true,
    "editable": true
   },
   "outputs": [],
   "source": [
    "%matplotlib inline\n",
    "%config InlineBackend.figure_format = 'retina'\n",
    "\n",
    "import helper\n",
    "import numpy as np\n",
    "\n",
    "# Explore the dataset\n",
    "batch_id = 1\n",
    "sample_id = 10\n",
    "helper.display_stats(cifar10_dataset_folder_path, batch_id, sample_id)"
   ]
  },
  {
   "cell_type": "markdown",
   "metadata": {
    "deletable": true,
    "editable": true
   },
   "source": [
    "## Implement Preprocess Functions\n",
    "### Normalize\n",
    "In the cell below, implement the `normalize` function to take in image data, `x`, and return it as a normalized Numpy array. The values should be in the range of 0 to 1, inclusive.  The return object should be the same shape as `x`."
   ]
  },
  {
   "cell_type": "code",
   "execution_count": null,
   "metadata": {
    "collapsed": false,
    "deletable": true,
    "editable": true
   },
   "outputs": [],
   "source": [
    "def normalize(x):\n",
    "    \"\"\"\n",
    "    Normalize a list of sample image data in the range of 0 to 1\n",
    "    : x: List of image data. The image shape is (32, 32, 3)\n",
    "    : return: Numpy array of normalize data\n",
    "    \"\"\"\n",
    "    return x / 255\n",
    "\n",
    "\n",
    "\"\"\"\n",
    "DON'T MODIFY ANYTHING IN THIS CELL THAT IS BELOW THIS LINE\n",
    "\"\"\"\n",
    "tests.test_normalize(normalize)"
   ]
  },
  {
   "cell_type": "markdown",
   "metadata": {
    "deletable": true,
    "editable": true
   },
   "source": [
    "### One-hot encode\n",
    "Just like the previous code cell, you'll be implementing a function for preprocessing.  This time, you'll implement the `one_hot_encode` function. The input, `x`, are a list of labels.  Implement the function to return the list of labels as One-Hot encoded Numpy array.  The possible values for labels are 0 to 9. The one-hot encoding function should return the same encoding for each value between each call to `one_hot_encode`.  Make sure to save the map of encodings outside the function.\n",
    "\n",
    "Hint: Don't reinvent the wheel."
   ]
  },
  {
   "cell_type": "code",
   "execution_count": null,
   "metadata": {
    "collapsed": false,
    "deletable": true,
    "editable": true
   },
   "outputs": [],
   "source": [
    "from sklearn.preprocessing import LabelBinarizer\n",
    "\n",
    "def one_hot_encode(x):\n",
    "    \"\"\"\n",
    "    One hot encode a list of sample labels. Return a one-hot encoded vector for each label.\n",
    "    : x: List of sample Labels\n",
    "    : return: Numpy array of one-hot encoded labels\n",
    "    \"\"\"\n",
    "    # The possible values for labels are 0 to 9. 10 in total\n",
    "    return np.eye(10)[x]\n",
    "\n",
    "\n",
    "\"\"\"\n",
    "DON'T MODIFY ANYTHING IN THIS CELL THAT IS BELOW THIS LINE\n",
    "\"\"\"\n",
    "tests.test_one_hot_encode(one_hot_encode)"
   ]
  },
  {
   "cell_type": "markdown",
   "metadata": {
    "deletable": true,
    "editable": true
   },
   "source": [
    "### Randomize Data\n",
    "As you saw from exploring the data above, the order of the samples are randomized.  It doesn't hurt to randomize it again, but you don't need to for this dataset."
   ]
  },
  {
   "cell_type": "markdown",
   "metadata": {
    "deletable": true,
    "editable": true
   },
   "source": [
    "## Preprocess all the data and save it\n",
    "Running the code cell below will preprocess all the CIFAR-10 data and save it to file. The code below also uses 10% of the training data for validation."
   ]
  },
  {
   "cell_type": "code",
   "execution_count": null,
   "metadata": {
    "collapsed": false,
    "deletable": true,
    "editable": true
   },
   "outputs": [],
   "source": [
    "\"\"\"\n",
    "DON'T MODIFY ANYTHING IN THIS CELL\n",
    "\"\"\"\n",
    "# Preprocess Training, Validation, and Testing Data\n",
    "helper.preprocess_and_save_data(cifar10_dataset_folder_path, normalize, one_hot_encode)"
   ]
  },
  {
   "cell_type": "markdown",
   "metadata": {
    "deletable": true,
    "editable": true
   },
   "source": [
    "# Check Point\n",
    "This is your first checkpoint.  If you ever decide to come back to this notebook or have to restart the notebook, you can start from here.  The preprocessed data has been saved to disk."
   ]
  },
  {
   "cell_type": "code",
   "execution_count": 1,
   "metadata": {
    "collapsed": true,
    "deletable": true,
    "editable": true
   },
   "outputs": [],
   "source": [
    "\"\"\"\n",
    "DON'T MODIFY ANYTHING IN THIS CELL\n",
    "\"\"\"\n",
    "import pickle\n",
    "import problem_unittests as tests\n",
    "import helper\n",
    "\n",
    "# Load the Preprocessed Validation data\n",
    "valid_features, valid_labels = pickle.load(open('preprocess_validation.p', mode='rb'))"
   ]
  },
  {
   "cell_type": "markdown",
   "metadata": {
    "deletable": true,
    "editable": true
   },
   "source": [
    "## Build the network\n",
    "For the neural network, you'll build each layer into a function.  Most of the code you've seen has been outside of functions. To test your code more thoroughly, we require that you put each layer in a function.  This allows us to give you better feedback and test for simple mistakes using our unittests before you submit your project.\n",
    "\n",
    ">**Note:** If you're finding it hard to dedicate enough time for this course each week, we've provided a small shortcut to this part of the project. In the next couple of problems, you'll have the option to use classes from the [TensorFlow Layers](https://www.tensorflow.org/api_docs/python/tf/layers) or [TensorFlow Layers (contrib)](https://www.tensorflow.org/api_guides/python/contrib.layers) packages to build each layer, except the layers you build in the \"Convolutional and Max Pooling Layer\" section.  TF Layers is similar to Keras's and TFLearn's abstraction to layers, so it's easy to pickup.\n",
    "\n",
    ">However, if you would like to get the most out of this course, try to solve all the problems _without_ using anything from the TF Layers packages. You **can** still use classes from other packages that happen to have the same name as ones you find in TF Layers! For example, instead of using the TF Layers version of the `conv2d` class, [tf.layers.conv2d](https://www.tensorflow.org/api_docs/python/tf/layers/conv2d), you would want to use the TF Neural Network version of `conv2d`, [tf.nn.conv2d](https://www.tensorflow.org/api_docs/python/tf/nn/conv2d). \n",
    "\n",
    "Let's begin!\n",
    "\n",
    "### Input\n",
    "The neural network needs to read the image data, one-hot encoded labels, and dropout keep probability. Implement the following functions\n",
    "* Implement `neural_net_image_input`\n",
    " * Return a [TF Placeholder](https://www.tensorflow.org/api_docs/python/tf/placeholder)\n",
    " * Set the shape using `image_shape` with batch size set to `None`.\n",
    " * Name the TensorFlow placeholder \"x\" using the TensorFlow `name` parameter in the [TF Placeholder](https://www.tensorflow.org/api_docs/python/tf/placeholder).\n",
    "* Implement `neural_net_label_input`\n",
    " * Return a [TF Placeholder](https://www.tensorflow.org/api_docs/python/tf/placeholder)\n",
    " * Set the shape using `n_classes` with batch size set to `None`.\n",
    " * Name the TensorFlow placeholder \"y\" using the TensorFlow `name` parameter in the [TF Placeholder](https://www.tensorflow.org/api_docs/python/tf/placeholder).\n",
    "* Implement `neural_net_keep_prob_input`\n",
    " * Return a [TF Placeholder](https://www.tensorflow.org/api_docs/python/tf/placeholder) for dropout keep probability.\n",
    " * Name the TensorFlow placeholder \"keep_prob\" using the TensorFlow `name` parameter in the [TF Placeholder](https://www.tensorflow.org/api_docs/python/tf/placeholder).\n",
    "\n",
    "These names will be used at the end of the project to load your saved model.\n",
    "\n",
    "Note: `None` for shapes in TensorFlow allow for a dynamic size."
   ]
  },
  {
   "cell_type": "code",
   "execution_count": 2,
   "metadata": {
    "collapsed": false,
    "deletable": true,
    "editable": true
   },
   "outputs": [
    {
     "name": "stdout",
     "output_type": "stream",
     "text": [
      "Image Input Tests Passed.\n",
      "Label Input Tests Passed.\n",
      "Keep Prob Tests Passed.\n"
     ]
    }
   ],
   "source": [
    "import tensorflow as tf\n",
    "\n",
    "def neural_net_image_input(image_shape):\n",
    "    \"\"\"\n",
    "    Return a Tensor for a batch of image input\n",
    "    : image_shape: Shape of the images\n",
    "    : return: Tensor for image input.\n",
    "    \"\"\"\n",
    "    return tf.placeholder(tf.float32, shape=[None, *image_shape], name = \"x\")\n",
    "\n",
    "\n",
    "def neural_net_label_input(n_classes):\n",
    "    \"\"\"\n",
    "    Return a Tensor for a batch of label input\n",
    "    : n_classes: Number of classes\n",
    "    : return: Tensor for label input.\n",
    "    \"\"\"\n",
    "    return tf.placeholder(tf.float32, shape=[None, n_classes], name = \"y\")\n",
    "\n",
    "\n",
    "def neural_net_keep_prob_input():\n",
    "    \"\"\"\n",
    "    Return a Tensor for keep probability\n",
    "    : return: Tensor for keep probability.\n",
    "    \"\"\"\n",
    "    return tf.placeholder(tf.float32, name=\"keep_prob\")\n",
    "\n",
    "\n",
    "\"\"\"\n",
    "DON'T MODIFY ANYTHING IN THIS CELL THAT IS BELOW THIS LINE\n",
    "\"\"\"\n",
    "tf.reset_default_graph()\n",
    "tests.test_nn_image_inputs(neural_net_image_input)\n",
    "tests.test_nn_label_inputs(neural_net_label_input)\n",
    "tests.test_nn_keep_prob_inputs(neural_net_keep_prob_input)"
   ]
  },
  {
   "cell_type": "markdown",
   "metadata": {
    "deletable": true,
    "editable": true
   },
   "source": [
    "### Convolution and Max Pooling Layer\n",
    "Convolution layers have a lot of success with images. For this code cell, you should implement the function `conv2d_maxpool` to apply convolution then max pooling:\n",
    "* Create the weight and bias using `conv_ksize`, `conv_num_outputs` and the shape of `x_tensor`.\n",
    "* Apply a convolution to `x_tensor` using weight and `conv_strides`.\n",
    " * We recommend you use same padding, but you're welcome to use any padding.\n",
    "* Add bias\n",
    "* Add a nonlinear activation to the convolution.\n",
    "* Apply Max Pooling using `pool_ksize` and `pool_strides`.\n",
    " * We recommend you use same padding, but you're welcome to use any padding.\n",
    "\n",
    "**Note:** You **can't** use [TensorFlow Layers](https://www.tensorflow.org/api_docs/python/tf/layers) or [TensorFlow Layers (contrib)](https://www.tensorflow.org/api_guides/python/contrib.layers) for **this** layer, but you can still use TensorFlow's [Neural Network](https://www.tensorflow.org/api_docs/python/tf/nn) package. You may still use the shortcut option for all the **other** layers."
   ]
  },
  {
   "cell_type": "code",
   "execution_count": 3,
   "metadata": {
    "collapsed": false,
    "deletable": true,
    "editable": true
   },
   "outputs": [
    {
     "name": "stdout",
     "output_type": "stream",
     "text": [
      "Tests Passed\n"
     ]
    }
   ],
   "source": [
    "def conv2d_maxpool(x_tensor, conv_num_outputs, conv_ksize, conv_strides, pool_ksize, pool_strides):\n",
    "    \"\"\"\n",
    "    Apply convolution then max pooling to x_tensor\n",
    "    :param x_tensor: TensorFlow Tensor\n",
    "    :param conv_num_outputs: Number of outputs for the convolutional layer\n",
    "    :param conv_ksize: kernal size 2-D Tuple for the convolutional layer\n",
    "    :param conv_strides: Stride 2-D Tuple for convolution\n",
    "    :param pool_ksize: kernal size 2-D Tuple for pool\n",
    "    :param pool_strides: Stride 2-D Tuple for pool\n",
    "    : return: A tensor that represents convolution and max pooling of x_tensor\n",
    "    \"\"\"\n",
    "    # x_tensor.get_shape()\n",
    "    # >> (?, 32, 32, 5)\n",
    "    input_depth = x_tensor.shape[-1].value\n",
    "\n",
    "    weights = tf.Variable(\n",
    "        tf.truncated_normal(\n",
    "            shape=[\n",
    "                conv_ksize[0], # height\n",
    "                conv_ksize[1], # width\n",
    "                input_depth, # input_depth\n",
    "                conv_num_outputs # out_depth\n",
    "            ], \n",
    "            mean=0.0,\n",
    "            stddev=0.1\n",
    "        ),\n",
    "        name='weights'\n",
    "    )\n",
    "    bias = tf.Variable(tf.zeros(conv_num_outputs), trainable=True)\n",
    "    \n",
    "    # Apply a convolution to x_tensor using weight and conv_strides\n",
    "    conv_layer = tf.nn.conv2d(\n",
    "        x_tensor, \n",
    "        weights, \n",
    "        strides=[1, *conv_strides, 1], \n",
    "        padding='SAME'\n",
    "    )\n",
    "    \n",
    "    # Add bias\n",
    "    conv_layer = tf.nn.bias_add(conv_layer, bias)\n",
    "    \n",
    "    # Add a nonlinear activation to the convolution\n",
    "    conv_layer = tf.nn.relu(conv_layer)\n",
    "    \n",
    "    # Apply Max Pooling using pool_ksize and pool_strides\n",
    "    conv_layer = tf.nn.max_pool(\n",
    "        conv_layer, \n",
    "        ksize=[1, *pool_ksize, 1], \n",
    "        strides=[1, *pool_strides, 1], \n",
    "        padding='SAME'\n",
    "    )\n",
    "    \n",
    "    return conv_layer \n",
    "\n",
    "\"\"\"\n",
    "DON'T MODIFY ANYTHING IN THIS CELL THAT IS BELOW THIS LINE\n",
    "\"\"\"\n",
    "tests.test_con_pool(conv2d_maxpool)"
   ]
  },
  {
   "cell_type": "markdown",
   "metadata": {
    "deletable": true,
    "editable": true
   },
   "source": [
    "### Flatten Layer\n",
    "Implement the `flatten` function to change the dimension of `x_tensor` from a 4-D tensor to a 2-D tensor.  The output should be the shape (*Batch Size*, *Flattened Image Size*). Shortcut option: you can use classes from the [TensorFlow Layers](https://www.tensorflow.org/api_docs/python/tf/layers) or [TensorFlow Layers (contrib)](https://www.tensorflow.org/api_guides/python/contrib.layers) packages for this layer. For more of a challenge, only use other TensorFlow packages."
   ]
  },
  {
   "cell_type": "code",
   "execution_count": 4,
   "metadata": {
    "collapsed": false,
    "deletable": true,
    "editable": true
   },
   "outputs": [
    {
     "name": "stdout",
     "output_type": "stream",
     "text": [
      "Tests Passed\n"
     ]
    }
   ],
   "source": [
    "def flatten(x_tensor):\n",
    "    \"\"\"\n",
    "    Flatten x_tensor to (Batch Size, Flattened Image Size)\n",
    "    : x_tensor: A tensor of size (Batch Size, ...), where ... are the image dimensions.\n",
    "    : return: A tensor of size (Batch Size, Flattened Image Size).\n",
    "    \"\"\"\n",
    "    # print(x_tensor.get_shape()[1:4].num_elements())\n",
    "    return tf.reshape(x_tensor, [-1, x_tensor.get_shape()[1:4].num_elements()])\n",
    "\n",
    "\n",
    "\"\"\"\n",
    "DON'T MODIFY ANYTHING IN THIS CELL THAT IS BELOW THIS LINE\n",
    "\"\"\"\n",
    "tests.test_flatten(flatten)"
   ]
  },
  {
   "cell_type": "markdown",
   "metadata": {
    "deletable": true,
    "editable": true
   },
   "source": [
    "### Fully-Connected Layer\n",
    "Implement the `fully_conn` function to apply a fully connected layer to `x_tensor` with the shape (*Batch Size*, *num_outputs*). Shortcut option: you can use classes from the [TensorFlow Layers](https://www.tensorflow.org/api_docs/python/tf/layers) or [TensorFlow Layers (contrib)](https://www.tensorflow.org/api_guides/python/contrib.layers) packages for this layer. For more of a challenge, only use other TensorFlow packages."
   ]
  },
  {
   "cell_type": "code",
   "execution_count": 5,
   "metadata": {
    "collapsed": false,
    "deletable": true,
    "editable": true
   },
   "outputs": [
    {
     "name": "stdout",
     "output_type": "stream",
     "text": [
      "Tests Passed\n"
     ]
    }
   ],
   "source": [
    "def fully_conn(x_tensor, num_outputs):\n",
    "    \"\"\"\n",
    "    Apply a fully connected layer to x_tensor using weight and bias\n",
    "    : x_tensor: A 2-D tensor where the first dimension is batch size.\n",
    "    : num_outputs: The number of output that the new tensor should be.\n",
    "    : return: A 2-D tensor where the second dimension is num_outputs.\n",
    "    \"\"\"\n",
    "    batch_size = x_tensor.shape[1].value\n",
    "    weights = tf.Variable(\n",
    "        tf.truncated_normal(\n",
    "            [batch_size, num_outputs],\n",
    "            mean = 0,\n",
    "            stddev=0.1)\n",
    "    )\n",
    "    bias = tf.Variable(tf.zeros(num_outputs))\n",
    "\n",
    "    fully_conn_layer = tf.matmul(x_tensor, weights)\n",
    "    fully_conn_layer = tf.nn.bias_add(fully_conn_layer, bias)\n",
    "    fully_conn_layer = tf.nn.relu(fully_conn_layer)\n",
    "\n",
    "    return fully_conn_layer\n",
    "\n",
    "\n",
    "\"\"\"\n",
    "DON'T MODIFY ANYTHING IN THIS CELL THAT IS BELOW THIS LINE\n",
    "\"\"\"\n",
    "tests.test_fully_conn(fully_conn)"
   ]
  },
  {
   "cell_type": "markdown",
   "metadata": {
    "deletable": true,
    "editable": true
   },
   "source": [
    "### Output Layer\n",
    "Implement the `output` function to apply a fully connected layer to `x_tensor` with the shape (*Batch Size*, *num_outputs*). Shortcut option: you can use classes from the [TensorFlow Layers](https://www.tensorflow.org/api_docs/python/tf/layers) or [TensorFlow Layers (contrib)](https://www.tensorflow.org/api_guides/python/contrib.layers) packages for this layer. For more of a challenge, only use other TensorFlow packages.\n",
    "\n",
    "**Note:** Activation, softmax, or cross entropy should **not** be applied to this."
   ]
  },
  {
   "cell_type": "code",
   "execution_count": 6,
   "metadata": {
    "collapsed": false,
    "deletable": true,
    "editable": true
   },
   "outputs": [
    {
     "name": "stdout",
     "output_type": "stream",
     "text": [
      "Tests Passed\n"
     ]
    }
   ],
   "source": [
    "def output(x_tensor, num_outputs):\n",
    "    \"\"\"\n",
    "    Apply a output layer to x_tensor using weight and bias\n",
    "    : x_tensor: A 2-D tensor where the first dimension is batch size.\n",
    "    : num_outputs: The number of output that the new tensor should be.\n",
    "    : return: A 2-D tensor where the second dimension is num_outputs.\n",
    "    \"\"\"\n",
    "    batch_size = x_tensor.shape[1].value\n",
    "    weights = tf.Variable(\n",
    "        tf.truncated_normal(\n",
    "            [batch_size, num_outputs],\n",
    "            mean = 0,\n",
    "            stddev=0.1)\n",
    "    )\n",
    "    bias = tf.Variable(tf.zeros(num_outputs))\n",
    "    \n",
    "    output_layer = tf.matmul(x_tensor, weights)\n",
    "    output_layer = tf.nn.bias_add(output_layer, bias)\n",
    "    \n",
    "    return output_layer\n",
    "\n",
    "\n",
    "\"\"\"\n",
    "DON'T MODIFY ANYTHING IN THIS CELL THAT IS BELOW THIS LINE\n",
    "\"\"\"\n",
    "tests.test_output(output)"
   ]
  },
  {
   "cell_type": "markdown",
   "metadata": {
    "deletable": true,
    "editable": true
   },
   "source": [
    "### Create Convolutional Model\n",
    "Implement the function `conv_net` to create a convolutional neural network model. The function takes in a batch of images, `x`, and outputs logits.  Use the layers you created above to create this model:\n",
    "\n",
    "* Apply 1, 2, or 3 Convolution and Max Pool layers\n",
    "* Apply a Flatten Layer\n",
    "* Apply 1, 2, or 3 Fully Connected Layers\n",
    "* Apply an Output Layer\n",
    "* Return the output\n",
    "* Apply [TensorFlow's Dropout](https://www.tensorflow.org/api_docs/python/tf/nn/dropout) to one or more layers in the model using `keep_prob`. "
   ]
  },
  {
   "cell_type": "code",
   "execution_count": 7,
   "metadata": {
    "collapsed": false,
    "deletable": true,
    "editable": true
   },
   "outputs": [
    {
     "name": "stdout",
     "output_type": "stream",
     "text": [
      "Neural Network Built!\n"
     ]
    }
   ],
   "source": [
    "def conv_net(x, keep_prob):\n",
    "    \"\"\"\n",
    "    Create a convolutional neural network model\n",
    "    : x: Placeholder tensor that holds image data.\n",
    "    : keep_prob: Placeholder tensor that hold dropout keep probability.\n",
    "    : return: Tensor that represents logits\n",
    "    \"\"\"\n",
    "    conv_num_outputs_layer1 = 32\n",
    "    conv_num_outputs_layer2 = 64\n",
    "    conv_num_outputs_layer3 = 128\n",
    "    fully_conn_num_outputs_layer_1 = 256\n",
    "    fully_conn_num_outputs_layer_2 = 512\n",
    "    conv_ksize = (5, 5)\n",
    "    conv_strides = (1, 1)\n",
    "    pool_ksize = (2, 2)\n",
    "    pool_strides = (2, 2)\n",
    "    \n",
    "    common_params = [conv_ksize, conv_strides, pool_ksize, pool_strides]\n",
    "    \n",
    "    # Apply 1, 2, or 3 Convolution and Max Pool layers\n",
    "    conv_layer_1 = conv2d_maxpool(x, conv_num_outputs_layer1, *common_params)\n",
    "    conv_layer_1 = tf.nn.dropout(conv_layer_1, keep_prob)\n",
    "    \n",
    "    conv_layer_2 = conv2d_maxpool(conv_layer_1, conv_num_outputs_layer2, *common_params)\n",
    "    conv_layer_2 = tf.nn.dropout(conv_layer_2, keep_prob)\n",
    "    \n",
    "    conv_layer_3 = conv2d_maxpool(conv_layer_2, conv_num_outputs_layer3, *common_params)\n",
    "    conv_layer_3 = tf.nn.dropout(conv_layer_3, keep_prob)\n",
    "    \n",
    "    # Apply a Flatten Layer\n",
    "    flatten_layer_1 = flatten(conv_layer_3)\n",
    "\n",
    "    # Apply 1, 2, or 3 Fully Connected Layers\n",
    "    fully_conn_layer_1 = fully_conn(flatten_layer_1, fully_conn_num_outputs_layer_1)\n",
    "    fully_conn_layer_1 = tf.nn.dropout(fully_conn_layer_1, keep_prob)\n",
    "    fully_conn_layer_2 = fully_conn(flatten_layer_1, fully_conn_num_outputs_layer_2)\n",
    "    fully_conn_layer_2 = tf.nn.dropout(fully_conn_layer_2, keep_prob)\n",
    "    \n",
    "    \n",
    "    # Apply an Output Layer\n",
    "    num_outputs = 10 # 10 classes\n",
    "    output_layer = output(fully_conn_layer_2, num_outputs)\n",
    "    \n",
    "    return output_layer\n",
    "\n",
    "\n",
    "\"\"\"\n",
    "DON'T MODIFY ANYTHING IN THIS CELL THAT IS BELOW THIS LINE\n",
    "\"\"\"\n",
    "\n",
    "##############################\n",
    "## Build the Neural Network ##\n",
    "##############################\n",
    "\n",
    "# Remove previous weights, bias, inputs, etc..\n",
    "tf.reset_default_graph()\n",
    "\n",
    "# Inputs\n",
    "x = neural_net_image_input((32, 32, 3))\n",
    "y = neural_net_label_input(10)\n",
    "keep_prob = neural_net_keep_prob_input()\n",
    "\n",
    "# Model\n",
    "logits = conv_net(x, keep_prob)\n",
    "\n",
    "# Name logits Tensor, so that is can be loaded from disk after training\n",
    "logits = tf.identity(logits, name='logits')\n",
    "\n",
    "# Loss and Optimizer\n",
    "cost = tf.reduce_mean(tf.nn.softmax_cross_entropy_with_logits(logits=logits, labels=y))\n",
    "optimizer = tf.train.AdamOptimizer().minimize(cost)\n",
    "\n",
    "# Accuracy\n",
    "correct_pred = tf.equal(tf.argmax(logits, 1), tf.argmax(y, 1))\n",
    "accuracy = tf.reduce_mean(tf.cast(correct_pred, tf.float32), name='accuracy')\n",
    "\n",
    "tests.test_conv_net(conv_net)"
   ]
  },
  {
   "cell_type": "markdown",
   "metadata": {
    "deletable": true,
    "editable": true
   },
   "source": [
    "## Train the Neural Network\n",
    "### Single Optimization\n",
    "Implement the function `train_neural_network` to do a single optimization.  The optimization should use `optimizer` to optimize in `session` with a `feed_dict` of the following:\n",
    "* `x` for image input\n",
    "* `y` for labels\n",
    "* `keep_prob` for keep probability for dropout\n",
    "\n",
    "This function will be called for each batch, so `tf.global_variables_initializer()` has already been called.\n",
    "\n",
    "Note: Nothing needs to be returned. This function is only optimizing the neural network."
   ]
  },
  {
   "cell_type": "code",
   "execution_count": 8,
   "metadata": {
    "collapsed": false,
    "deletable": true,
    "editable": true
   },
   "outputs": [
    {
     "name": "stdout",
     "output_type": "stream",
     "text": [
      "Tests Passed\n"
     ]
    }
   ],
   "source": [
    "def train_neural_network(session, optimizer, keep_probability, feature_batch, label_batch):\n",
    "    \"\"\"\n",
    "    Optimize the session on a batch of images and labels\n",
    "    : session: Current TensorFlow session\n",
    "    : optimizer: TensorFlow optimizer function\n",
    "    : keep_probability: keep probability\n",
    "    : feature_batch: Batch of Numpy image data\n",
    "    : label_batch: Batch of Numpy label data\n",
    "    \"\"\"\n",
    "    session.run(optimizer, feed_dict={x: feature_batch, y: label_batch, keep_prob: keep_probability})\n",
    "\n",
    "\n",
    "\"\"\"\n",
    "DON'T MODIFY ANYTHING IN THIS CELL THAT IS BELOW THIS LINE\n",
    "\"\"\"\n",
    "tests.test_train_nn(train_neural_network)"
   ]
  },
  {
   "cell_type": "markdown",
   "metadata": {
    "deletable": true,
    "editable": true
   },
   "source": [
    "### Show Stats\n",
    "Implement the function `print_stats` to print loss and validation accuracy.  Use the global variables `valid_features` and `valid_labels` to calculate validation accuracy.  Use a keep probability of `1.0` to calculate the loss and validation accuracy."
   ]
  },
  {
   "cell_type": "code",
   "execution_count": 9,
   "metadata": {
    "collapsed": false,
    "deletable": true,
    "editable": true
   },
   "outputs": [],
   "source": [
    "def print_stats(session, feature_batch, label_batch, cost, accuracy):\n",
    "    \"\"\"\n",
    "    Print information about loss and validation accuracy\n",
    "    : session: Current TensorFlow session\n",
    "    : feature_batch: Batch of Numpy image data\n",
    "    : label_batch: Batch of Numpy label data\n",
    "    : cost: TensorFlow cost function\n",
    "    : accuracy: TensorFlow accuracy function\n",
    "    \"\"\"\n",
    "    loss = session.run(cost, feed_dict={x: feature_batch, y: label_batch, keep_prob: 1.0})\n",
    "    accuracy = session.run(accuracy, feed_dict={x: valid_features, y: valid_labels, keep_prob: 1.0})\n",
    "    print(\"Loss: {} Accuracy: {}\".format(loss, accuracy))"
   ]
  },
  {
   "cell_type": "markdown",
   "metadata": {
    "deletable": true,
    "editable": true
   },
   "source": [
    "### Hyperparameters\n",
    "Tune the following parameters:\n",
    "* Set `epochs` to the number of iterations until the network stops learning or start overfitting\n",
    "* Set `batch_size` to the highest number that your machine has memory for.  Most people set them to common sizes of memory:\n",
    " * 64\n",
    " * 128\n",
    " * 256\n",
    " * ...\n",
    "* Set `keep_probability` to the probability of keeping a node using dropout"
   ]
  },
  {
   "cell_type": "code",
   "execution_count": 10,
   "metadata": {
    "collapsed": true,
    "deletable": true,
    "editable": true
   },
   "outputs": [],
   "source": [
    "# TODO: Tune Parameters\n",
    "epochs = 35\n",
    "batch_size = 128\n",
    "keep_probability = 0.75"
   ]
  },
  {
   "cell_type": "markdown",
   "metadata": {
    "deletable": true,
    "editable": true
   },
   "source": [
    "### Train on a Single CIFAR-10 Batch\n",
    "Instead of training the neural network on all the CIFAR-10 batches of data, let's use a single batch. This should save time while you iterate on the model to get a better accuracy.  Once the final validation accuracy is 50% or greater, run the model on all the data in the next section."
   ]
  },
  {
   "cell_type": "code",
   "execution_count": 11,
   "metadata": {
    "collapsed": false,
    "deletable": true,
    "editable": true
   },
   "outputs": [
    {
     "name": "stdout",
     "output_type": "stream",
     "text": [
      "Checking the Training on a Single Batch...\n",
      "Epoch  1, CIFAR-10 Batch 1:  Loss: 2.1932835578918457 Accuracy: 0.22779998183250427\n",
      "Epoch  2, CIFAR-10 Batch 1:  Loss: 2.011131525039673 Accuracy: 0.31299999356269836\n",
      "Epoch  3, CIFAR-10 Batch 1:  Loss: 1.957720160484314 Accuracy: 0.3763999938964844\n",
      "Epoch  4, CIFAR-10 Batch 1:  Loss: 1.8524549007415771 Accuracy: 0.3917999863624573\n",
      "Epoch  5, CIFAR-10 Batch 1:  Loss: 1.7515805959701538 Accuracy: 0.4285999536514282\n",
      "Epoch  6, CIFAR-10 Batch 1:  Loss: 1.6449694633483887 Accuracy: 0.4553999900817871\n",
      "Epoch  7, CIFAR-10 Batch 1:  Loss: 1.6163479089736938 Accuracy: 0.465999960899353\n",
      "Epoch  8, CIFAR-10 Batch 1:  Loss: 1.5041940212249756 Accuracy: 0.48539993166923523\n",
      "Epoch  9, CIFAR-10 Batch 1:  Loss: 1.4849427938461304 Accuracy: 0.48159995675086975\n",
      "Epoch 10, CIFAR-10 Batch 1:  Loss: 1.4601508378982544 Accuracy: 0.4793999195098877\n",
      "Epoch 11, CIFAR-10 Batch 1:  Loss: 1.334553599357605 Accuracy: 0.5107999444007874\n",
      "Epoch 12, CIFAR-10 Batch 1:  Loss: 1.3120155334472656 Accuracy: 0.5133999586105347\n",
      "Epoch 13, CIFAR-10 Batch 1:  Loss: 1.1587424278259277 Accuracy: 0.5285999774932861\n",
      "Epoch 14, CIFAR-10 Batch 1:  Loss: 1.09547758102417 Accuracy: 0.5415999293327332\n",
      "Epoch 15, CIFAR-10 Batch 1:  Loss: 1.119186282157898 Accuracy: 0.5281999111175537\n",
      "Epoch 16, CIFAR-10 Batch 1:  Loss: 1.0606940984725952 Accuracy: 0.5435999035835266\n",
      "Epoch 17, CIFAR-10 Batch 1:  Loss: 0.9461108446121216 Accuracy: 0.5565999746322632\n",
      "Epoch 18, CIFAR-10 Batch 1:  Loss: 0.8634511232376099 Accuracy: 0.5571999549865723\n",
      "Epoch 19, CIFAR-10 Batch 1:  Loss: 0.875931978225708 Accuracy: 0.5637999176979065\n",
      "Epoch 20, CIFAR-10 Batch 1:  Loss: 0.7731307148933411 Accuracy: 0.5735999941825867\n",
      "Epoch 21, CIFAR-10 Batch 1:  Loss: 0.7171895503997803 Accuracy: 0.5747999548912048\n",
      "Epoch 22, CIFAR-10 Batch 1:  Loss: 0.6520981788635254 Accuracy: 0.5945999622344971\n",
      "Epoch 23, CIFAR-10 Batch 1:  Loss: 0.6261926293373108 Accuracy: 0.5879999399185181\n",
      "Epoch 24, CIFAR-10 Batch 1:  Loss: 0.5350332260131836 Accuracy: 0.5861998796463013\n",
      "Epoch 25, CIFAR-10 Batch 1:  Loss: 0.5346778631210327 Accuracy: 0.6061999201774597\n",
      "Epoch 26, CIFAR-10 Batch 1:  Loss: 0.4086195230484009 Accuracy: 0.5965999364852905\n",
      "Epoch 27, CIFAR-10 Batch 1:  Loss: 0.4407140612602234 Accuracy: 0.6021998524665833\n",
      "Epoch 28, CIFAR-10 Batch 1:  Loss: 0.3263455033302307 Accuracy: 0.6123998761177063\n",
      "Epoch 29, CIFAR-10 Batch 1:  Loss: 0.2961142361164093 Accuracy: 0.6095999479293823\n",
      "Epoch 30, CIFAR-10 Batch 1:  Loss: 0.2748626470565796 Accuracy: 0.6221998929977417\n",
      "Epoch 31, CIFAR-10 Batch 1:  Loss: 0.24453707039356232 Accuracy: 0.6201999187469482\n",
      "Epoch 32, CIFAR-10 Batch 1:  Loss: 0.2586561143398285 Accuracy: 0.6059998869895935\n",
      "Epoch 33, CIFAR-10 Batch 1:  Loss: 0.2022581845521927 Accuracy: 0.6185999512672424\n",
      "Epoch 34, CIFAR-10 Batch 1:  Loss: 0.19609764218330383 Accuracy: 0.6221999526023865\n",
      "Epoch 35, CIFAR-10 Batch 1:  Loss: 0.1641387790441513 Accuracy: 0.6179999113082886\n"
     ]
    }
   ],
   "source": [
    "\"\"\"\n",
    "DON'T MODIFY ANYTHING IN THIS CELL\n",
    "\"\"\"\n",
    "print('Checking the Training on a Single Batch...')\n",
    "with tf.Session() as sess:\n",
    "    # Initializing the variables\n",
    "    sess.run(tf.global_variables_initializer())\n",
    "    \n",
    "    # Training cycle\n",
    "    for epoch in range(epochs):\n",
    "        batch_i = 1\n",
    "        for batch_features, batch_labels in helper.load_preprocess_training_batch(batch_i, batch_size):\n",
    "            train_neural_network(sess, optimizer, keep_probability, batch_features, batch_labels)\n",
    "        print('Epoch {:>2}, CIFAR-10 Batch {}:  '.format(epoch + 1, batch_i), end='')\n",
    "        print_stats(sess, batch_features, batch_labels, cost, accuracy)"
   ]
  },
  {
   "cell_type": "markdown",
   "metadata": {
    "deletable": true,
    "editable": true
   },
   "source": [
    "### Fully Train the Model\n",
    "Now that you got a good accuracy with a single CIFAR-10 batch, try it with all five batches."
   ]
  },
  {
   "cell_type": "code",
   "execution_count": 12,
   "metadata": {
    "collapsed": false,
    "deletable": true,
    "editable": true
   },
   "outputs": [
    {
     "name": "stdout",
     "output_type": "stream",
     "text": [
      "Training...\n",
      "Epoch  1, CIFAR-10 Batch 1:  Loss: 2.2478585243225098 Accuracy: 0.22419998049736023\n",
      "Epoch  1, CIFAR-10 Batch 2:  Loss: 1.8837275505065918 Accuracy: 0.3407999873161316\n",
      "Epoch  1, CIFAR-10 Batch 3:  Loss: 1.6931178569793701 Accuracy: 0.366599977016449\n",
      "Epoch  1, CIFAR-10 Batch 4:  Loss: 1.6457328796386719 Accuracy: 0.43439996242523193\n",
      "Epoch  1, CIFAR-10 Batch 5:  Loss: 1.5777308940887451 Accuracy: 0.45159992575645447\n",
      "Epoch  2, CIFAR-10 Batch 1:  Loss: 1.6450750827789307 Accuracy: 0.48399996757507324\n",
      "Epoch  2, CIFAR-10 Batch 2:  Loss: 1.3891228437423706 Accuracy: 0.45259997248649597\n",
      "Epoch  2, CIFAR-10 Batch 3:  Loss: 1.2397334575653076 Accuracy: 0.49479997158050537\n",
      "Epoch  2, CIFAR-10 Batch 4:  Loss: 1.4911067485809326 Accuracy: 0.5090000033378601\n",
      "Epoch  2, CIFAR-10 Batch 5:  Loss: 1.3708136081695557 Accuracy: 0.5109999179840088\n",
      "Epoch  3, CIFAR-10 Batch 1:  Loss: 1.3920594453811646 Accuracy: 0.5313999652862549\n",
      "Epoch  3, CIFAR-10 Batch 2:  Loss: 1.1967368125915527 Accuracy: 0.5221999883651733\n",
      "Epoch  3, CIFAR-10 Batch 3:  Loss: 1.1225855350494385 Accuracy: 0.539199948310852\n",
      "Epoch  3, CIFAR-10 Batch 4:  Loss: 1.2587395906448364 Accuracy: 0.5643999576568604\n",
      "Epoch  3, CIFAR-10 Batch 5:  Loss: 1.2642561197280884 Accuracy: 0.5647999048233032\n",
      "Epoch  4, CIFAR-10 Batch 1:  Loss: 1.1507940292358398 Accuracy: 0.5829999446868896\n",
      "Epoch  4, CIFAR-10 Batch 2:  Loss: 1.0789107084274292 Accuracy: 0.5377998948097229\n",
      "Epoch  4, CIFAR-10 Batch 3:  Loss: 0.9628630876541138 Accuracy: 0.5771998763084412\n",
      "Epoch  4, CIFAR-10 Batch 4:  Loss: 1.0709222555160522 Accuracy: 0.5817999243736267\n",
      "Epoch  4, CIFAR-10 Batch 5:  Loss: 1.0804729461669922 Accuracy: 0.5877999067306519\n",
      "Epoch  5, CIFAR-10 Batch 1:  Loss: 1.0380303859710693 Accuracy: 0.6127999424934387\n",
      "Epoch  5, CIFAR-10 Batch 2:  Loss: 0.9688418507575989 Accuracy: 0.6031998991966248\n",
      "Epoch  5, CIFAR-10 Batch 3:  Loss: 0.8632034063339233 Accuracy: 0.6093999147415161\n",
      "Epoch  5, CIFAR-10 Batch 4:  Loss: 0.973716676235199 Accuracy: 0.6333999037742615\n",
      "Epoch  5, CIFAR-10 Batch 5:  Loss: 0.885626494884491 Accuracy: 0.6373998522758484\n",
      "Epoch  6, CIFAR-10 Batch 1:  Loss: 0.9440181851387024 Accuracy: 0.6339998841285706\n",
      "Epoch  6, CIFAR-10 Batch 2:  Loss: 0.9215208888053894 Accuracy: 0.6327998638153076\n",
      "Epoch  6, CIFAR-10 Batch 3:  Loss: 0.8347591757774353 Accuracy: 0.6157999634742737\n",
      "Epoch  6, CIFAR-10 Batch 4:  Loss: 0.7886825799942017 Accuracy: 0.6541998386383057\n",
      "Epoch  6, CIFAR-10 Batch 5:  Loss: 0.844180166721344 Accuracy: 0.6445999145507812\n",
      "Epoch  7, CIFAR-10 Batch 1:  Loss: 0.7575644254684448 Accuracy: 0.6627998948097229\n",
      "Epoch  7, CIFAR-10 Batch 2:  Loss: 0.8091502785682678 Accuracy: 0.6409999132156372\n",
      "Epoch  7, CIFAR-10 Batch 3:  Loss: 0.6821871995925903 Accuracy: 0.6525998711585999\n",
      "Epoch  7, CIFAR-10 Batch 4:  Loss: 0.7780335545539856 Accuracy: 0.6579998731613159\n",
      "Epoch  7, CIFAR-10 Batch 5:  Loss: 0.6754856705665588 Accuracy: 0.665199875831604\n",
      "Epoch  8, CIFAR-10 Batch 1:  Loss: 0.8035699129104614 Accuracy: 0.6637998819351196\n",
      "Epoch  8, CIFAR-10 Batch 2:  Loss: 0.7641209959983826 Accuracy: 0.6587998867034912\n",
      "Epoch  8, CIFAR-10 Batch 3:  Loss: 0.5282308459281921 Accuracy: 0.6653998494148254\n",
      "Epoch  8, CIFAR-10 Batch 4:  Loss: 0.6674501895904541 Accuracy: 0.6865999102592468\n",
      "Epoch  8, CIFAR-10 Batch 5:  Loss: 0.6420197486877441 Accuracy: 0.6791999340057373\n",
      "Epoch  9, CIFAR-10 Batch 1:  Loss: 0.6222699880599976 Accuracy: 0.7009998559951782\n",
      "Epoch  9, CIFAR-10 Batch 2:  Loss: 0.6511884927749634 Accuracy: 0.6747998595237732\n",
      "Epoch  9, CIFAR-10 Batch 3:  Loss: 0.4982835352420807 Accuracy: 0.6953999400138855\n",
      "Epoch  9, CIFAR-10 Batch 4:  Loss: 0.6109545230865479 Accuracy: 0.7005998492240906\n",
      "Epoch  9, CIFAR-10 Batch 5:  Loss: 0.7144730091094971 Accuracy: 0.6653998494148254\n",
      "Epoch 10, CIFAR-10 Batch 1:  Loss: 0.5636800527572632 Accuracy: 0.697399914264679\n",
      "Epoch 10, CIFAR-10 Batch 2:  Loss: 0.4850624203681946 Accuracy: 0.6937997937202454\n",
      "Epoch 10, CIFAR-10 Batch 3:  Loss: 0.38418346643447876 Accuracy: 0.6987997889518738\n",
      "Epoch 10, CIFAR-10 Batch 4:  Loss: 0.5332787036895752 Accuracy: 0.707399845123291\n",
      "Epoch 10, CIFAR-10 Batch 5:  Loss: 0.600462019443512 Accuracy: 0.7145998477935791\n",
      "Epoch 11, CIFAR-10 Batch 1:  Loss: 0.48435676097869873 Accuracy: 0.7241998910903931\n",
      "Epoch 11, CIFAR-10 Batch 2:  Loss: 0.39974018931388855 Accuracy: 0.7073997855186462\n",
      "Epoch 11, CIFAR-10 Batch 3:  Loss: 0.3301633596420288 Accuracy: 0.7287998199462891\n",
      "Epoch 11, CIFAR-10 Batch 4:  Loss: 0.4790204167366028 Accuracy: 0.7131999135017395\n",
      "Epoch 11, CIFAR-10 Batch 5:  Loss: 0.5108460783958435 Accuracy: 0.7161998152732849\n",
      "Epoch 12, CIFAR-10 Batch 1:  Loss: 0.4638007581233978 Accuracy: 0.7155998349189758\n",
      "Epoch 12, CIFAR-10 Batch 2:  Loss: 0.421169638633728 Accuracy: 0.7217998504638672\n",
      "Epoch 12, CIFAR-10 Batch 3:  Loss: 0.32230204343795776 Accuracy: 0.7313998341560364\n",
      "Epoch 12, CIFAR-10 Batch 4:  Loss: 0.4071316123008728 Accuracy: 0.726999819278717\n",
      "Epoch 12, CIFAR-10 Batch 5:  Loss: 0.4177444577217102 Accuracy: 0.7243998646736145\n",
      "Epoch 13, CIFAR-10 Batch 1:  Loss: 0.38347697257995605 Accuracy: 0.7397997975349426\n",
      "Epoch 13, CIFAR-10 Batch 2:  Loss: 0.3650006353855133 Accuracy: 0.7129998207092285\n",
      "Epoch 13, CIFAR-10 Batch 3:  Loss: 0.25890564918518066 Accuracy: 0.7389998435974121\n",
      "Epoch 13, CIFAR-10 Batch 4:  Loss: 0.39913707971572876 Accuracy: 0.7439998388290405\n",
      "Epoch 13, CIFAR-10 Batch 5:  Loss: 0.4226728677749634 Accuracy: 0.7411998510360718\n",
      "Epoch 14, CIFAR-10 Batch 1:  Loss: 0.3483855426311493 Accuracy: 0.7387999296188354\n",
      "Epoch 14, CIFAR-10 Batch 2:  Loss: 0.2951708436012268 Accuracy: 0.7397997975349426\n",
      "Epoch 14, CIFAR-10 Batch 3:  Loss: 0.1989605873823166 Accuracy: 0.7523998022079468\n",
      "Epoch 14, CIFAR-10 Batch 4:  Loss: 0.35702818632125854 Accuracy: 0.7369998097419739\n",
      "Epoch 14, CIFAR-10 Batch 5:  Loss: 0.3132578730583191 Accuracy: 0.7389998435974121\n",
      "Epoch 15, CIFAR-10 Batch 1:  Loss: 0.29422247409820557 Accuracy: 0.7419998645782471\n",
      "Epoch 15, CIFAR-10 Batch 2:  Loss: 0.27029815316200256 Accuracy: 0.7449998259544373\n",
      "Epoch 15, CIFAR-10 Batch 3:  Loss: 0.19292709231376648 Accuracy: 0.7603998184204102\n",
      "Epoch 15, CIFAR-10 Batch 4:  Loss: 0.28725340962409973 Accuracy: 0.7583998441696167\n",
      "Epoch 15, CIFAR-10 Batch 5:  Loss: 0.2921523451805115 Accuracy: 0.7461997866630554\n",
      "Epoch 16, CIFAR-10 Batch 1:  Loss: 0.23765446245670319 Accuracy: 0.7583998441696167\n",
      "Epoch 16, CIFAR-10 Batch 2:  Loss: 0.2199307680130005 Accuracy: 0.7453998327255249\n",
      "Epoch 16, CIFAR-10 Batch 3:  Loss: 0.15818116068840027 Accuracy: 0.7647998332977295\n",
      "Epoch 16, CIFAR-10 Batch 4:  Loss: 0.280930757522583 Accuracy: 0.7577998638153076\n",
      "Epoch 16, CIFAR-10 Batch 5:  Loss: 0.2315642237663269 Accuracy: 0.7577998042106628\n",
      "Epoch 17, CIFAR-10 Batch 1:  Loss: 0.23601774871349335 Accuracy: 0.7631998658180237\n",
      "Epoch 17, CIFAR-10 Batch 2:  Loss: 0.17594154179096222 Accuracy: 0.7579998970031738\n",
      "Epoch 17, CIFAR-10 Batch 3:  Loss: 0.16068536043167114 Accuracy: 0.7631998062133789\n",
      "Epoch 17, CIFAR-10 Batch 4:  Loss: 0.2726075351238251 Accuracy: 0.7471998333930969\n",
      "Epoch 17, CIFAR-10 Batch 5:  Loss: 0.16563448309898376 Accuracy: 0.7515998482704163\n",
      "Epoch 18, CIFAR-10 Batch 1:  Loss: 0.19974368810653687 Accuracy: 0.7559998035430908\n",
      "Epoch 18, CIFAR-10 Batch 2:  Loss: 0.15342597663402557 Accuracy: 0.7623998522758484\n",
      "Epoch 18, CIFAR-10 Batch 3:  Loss: 0.12634992599487305 Accuracy: 0.7649998664855957\n",
      "Epoch 18, CIFAR-10 Batch 4:  Loss: 0.16940076649188995 Accuracy: 0.7649998664855957\n",
      "Epoch 18, CIFAR-10 Batch 5:  Loss: 0.20089244842529297 Accuracy: 0.7655998468399048\n",
      "Epoch 19, CIFAR-10 Batch 1:  Loss: 0.13523614406585693 Accuracy: 0.7549998760223389\n",
      "Epoch 19, CIFAR-10 Batch 2:  Loss: 0.15686222910881042 Accuracy: 0.7529997825622559\n",
      "Epoch 19, CIFAR-10 Batch 3:  Loss: 0.11558765918016434 Accuracy: 0.757999837398529\n",
      "Epoch 19, CIFAR-10 Batch 4:  Loss: 0.2244413197040558 Accuracy: 0.7627997994422913\n",
      "Epoch 19, CIFAR-10 Batch 5:  Loss: 0.1549302488565445 Accuracy: 0.7653998732566833\n",
      "Epoch 20, CIFAR-10 Batch 1:  Loss: 0.10173415392637253 Accuracy: 0.7615997791290283\n",
      "Epoch 20, CIFAR-10 Batch 2:  Loss: 0.11553886532783508 Accuracy: 0.7665997743606567\n",
      "Epoch 20, CIFAR-10 Batch 3:  Loss: 0.12921208143234253 Accuracy: 0.7701997756958008\n",
      "Epoch 20, CIFAR-10 Batch 4:  Loss: 0.15447542071342468 Accuracy: 0.7665998339653015\n",
      "Epoch 20, CIFAR-10 Batch 5:  Loss: 0.1328590214252472 Accuracy: 0.7707998752593994\n",
      "Epoch 21, CIFAR-10 Batch 1:  Loss: 0.10821675509214401 Accuracy: 0.7651998400688171\n",
      "Epoch 21, CIFAR-10 Batch 2:  Loss: 0.09070709347724915 Accuracy: 0.7671998143196106\n",
      "Epoch 21, CIFAR-10 Batch 3:  Loss: 0.13414500653743744 Accuracy: 0.7503998279571533\n",
      "Epoch 21, CIFAR-10 Batch 4:  Loss: 0.13382379710674286 Accuracy: 0.7633997797966003\n",
      "Epoch 21, CIFAR-10 Batch 5:  Loss: 0.0911521166563034 Accuracy: 0.7737997770309448\n",
      "Epoch 22, CIFAR-10 Batch 1:  Loss: 0.11180008947849274 Accuracy: 0.7699998617172241\n",
      "Epoch 22, CIFAR-10 Batch 2:  Loss: 0.10556705296039581 Accuracy: 0.7609997987747192\n",
      "Epoch 22, CIFAR-10 Batch 3:  Loss: 0.08885900676250458 Accuracy: 0.7765998244285583\n",
      "Epoch 22, CIFAR-10 Batch 4:  Loss: 0.12025374174118042 Accuracy: 0.776999831199646\n",
      "Epoch 22, CIFAR-10 Batch 5:  Loss: 0.07065024971961975 Accuracy: 0.7683998346328735\n",
      "Epoch 23, CIFAR-10 Batch 1:  Loss: 0.0840025544166565 Accuracy: 0.7743998765945435\n",
      "Epoch 23, CIFAR-10 Batch 2:  Loss: 0.07973319292068481 Accuracy: 0.7641997933387756\n",
      "Epoch 23, CIFAR-10 Batch 3:  Loss: 0.07848314940929413 Accuracy: 0.7725998759269714\n",
      "Epoch 23, CIFAR-10 Batch 4:  Loss: 0.17174965143203735 Accuracy: 0.75139981508255\n",
      "Epoch 23, CIFAR-10 Batch 5:  Loss: 0.05778086557984352 Accuracy: 0.7831999063491821\n",
      "Epoch 24, CIFAR-10 Batch 1:  Loss: 0.0880860835313797 Accuracy: 0.7725998163223267\n",
      "Epoch 24, CIFAR-10 Batch 2:  Loss: 0.06120329722762108 Accuracy: 0.7691998481750488\n",
      "Epoch 24, CIFAR-10 Batch 3:  Loss: 0.09793127328157425 Accuracy: 0.773399829864502\n",
      "Epoch 24, CIFAR-10 Batch 4:  Loss: 0.1076919212937355 Accuracy: 0.7749998569488525\n",
      "Epoch 24, CIFAR-10 Batch 5:  Loss: 0.06611727923154831 Accuracy: 0.7779998779296875\n",
      "Epoch 25, CIFAR-10 Batch 1:  Loss: 0.05671758949756622 Accuracy: 0.7819998264312744\n",
      "Epoch 25, CIFAR-10 Batch 2:  Loss: 0.05209682509303093 Accuracy: 0.7791998386383057\n",
      "Epoch 25, CIFAR-10 Batch 3:  Loss: 0.06981603056192398 Accuracy: 0.7753998041152954\n",
      "Epoch 25, CIFAR-10 Batch 4:  Loss: 0.08790335059165955 Accuracy: 0.7765998840332031\n",
      "Epoch 25, CIFAR-10 Batch 5:  Loss: 0.04157699644565582 Accuracy: 0.7785998582839966\n",
      "Epoch 26, CIFAR-10 Batch 1:  Loss: 0.04922943934798241 Accuracy: 0.7849998474121094\n",
      "Epoch 26, CIFAR-10 Batch 2:  Loss: 0.0665821060538292 Accuracy: 0.7679998278617859\n",
      "Epoch 26, CIFAR-10 Batch 3:  Loss: 0.05838177353143692 Accuracy: 0.7725998163223267\n",
      "Epoch 26, CIFAR-10 Batch 4:  Loss: 0.06313947588205338 Accuracy: 0.7709999084472656\n",
      "Epoch 26, CIFAR-10 Batch 5:  Loss: 0.04845092073082924 Accuracy: 0.7835997343063354\n",
      "Epoch 27, CIFAR-10 Batch 1:  Loss: 0.07928922027349472 Accuracy: 0.7657998204231262\n",
      "Epoch 27, CIFAR-10 Batch 2:  Loss: 0.07249107956886292 Accuracy: 0.7605998516082764\n",
      "Epoch 27, CIFAR-10 Batch 3:  Loss: 0.048748262226581573 Accuracy: 0.7781998515129089\n",
      "Epoch 27, CIFAR-10 Batch 4:  Loss: 0.05908665060997009 Accuracy: 0.7711997628211975\n",
      "Epoch 27, CIFAR-10 Batch 5:  Loss: 0.039004817605018616 Accuracy: 0.7839998006820679\n",
      "Epoch 28, CIFAR-10 Batch 1:  Loss: 0.04055047035217285 Accuracy: 0.7797998189926147\n",
      "Epoch 28, CIFAR-10 Batch 2:  Loss: 0.05120241269469261 Accuracy: 0.7707998752593994\n",
      "Epoch 28, CIFAR-10 Batch 3:  Loss: 0.060802482068538666 Accuracy: 0.7725998163223267\n",
      "Epoch 28, CIFAR-10 Batch 4:  Loss: 0.05944879725575447 Accuracy: 0.78059983253479\n",
      "Epoch 28, CIFAR-10 Batch 5:  Loss: 0.02839808538556099 Accuracy: 0.7885997891426086\n",
      "Epoch 29, CIFAR-10 Batch 1:  Loss: 0.030118823051452637 Accuracy: 0.7879998683929443\n",
      "Epoch 29, CIFAR-10 Batch 2:  Loss: 0.03210212290287018 Accuracy: 0.7849997878074646\n",
      "Epoch 29, CIFAR-10 Batch 3:  Loss: 0.045216865837574005 Accuracy: 0.7693998217582703\n",
      "Epoch 29, CIFAR-10 Batch 4:  Loss: 0.06881881505250931 Accuracy: 0.7791998386383057\n",
      "Epoch 29, CIFAR-10 Batch 5:  Loss: 0.025423122569918633 Accuracy: 0.7837998270988464\n",
      "Epoch 30, CIFAR-10 Batch 1:  Loss: 0.0362873338162899 Accuracy: 0.7827997803688049\n",
      "Epoch 30, CIFAR-10 Batch 2:  Loss: 0.035676248371601105 Accuracy: 0.7807998657226562\n",
      "Epoch 30, CIFAR-10 Batch 3:  Loss: 0.052415356040000916 Accuracy: 0.7687998414039612\n",
      "Epoch 30, CIFAR-10 Batch 4:  Loss: 0.05106329172849655 Accuracy: 0.7867997884750366\n",
      "Epoch 30, CIFAR-10 Batch 5:  Loss: 0.026328323408961296 Accuracy: 0.7815998196601868\n",
      "Epoch 31, CIFAR-10 Batch 1:  Loss: 0.033422213047742844 Accuracy: 0.7833998799324036\n",
      "Epoch 31, CIFAR-10 Batch 2:  Loss: 0.03539246693253517 Accuracy: 0.7741998434066772\n",
      "Epoch 31, CIFAR-10 Batch 3:  Loss: 0.04775424301624298 Accuracy: 0.7797998189926147\n",
      "Epoch 31, CIFAR-10 Batch 4:  Loss: 0.041406869888305664 Accuracy: 0.7683998346328735\n",
      "Epoch 31, CIFAR-10 Batch 5:  Loss: 0.04309137165546417 Accuracy: 0.7801997661590576\n",
      "Epoch 32, CIFAR-10 Batch 1:  Loss: 0.027346407994627953 Accuracy: 0.7841998338699341\n",
      "Epoch 32, CIFAR-10 Batch 2:  Loss: 0.0142636988312006 Accuracy: 0.7827998399734497\n",
      "Epoch 32, CIFAR-10 Batch 3:  Loss: 0.03044021688401699 Accuracy: 0.7703998684883118\n",
      "Epoch 32, CIFAR-10 Batch 4:  Loss: 0.0318337082862854 Accuracy: 0.7889997959136963\n",
      "Epoch 32, CIFAR-10 Batch 5:  Loss: 0.020607806742191315 Accuracy: 0.7853997945785522\n",
      "Epoch 33, CIFAR-10 Batch 1:  Loss: 0.02937992289662361 Accuracy: 0.7833998203277588\n",
      "Epoch 33, CIFAR-10 Batch 2:  Loss: 0.021134966984391212 Accuracy: 0.7831997871398926\n",
      "Epoch 33, CIFAR-10 Batch 3:  Loss: 0.019134920090436935 Accuracy: 0.783599853515625\n",
      "Epoch 33, CIFAR-10 Batch 4:  Loss: 0.041045673191547394 Accuracy: 0.7767997980117798\n",
      "Epoch 33, CIFAR-10 Batch 5:  Loss: 0.019096646457910538 Accuracy: 0.7761998176574707\n",
      "Epoch 34, CIFAR-10 Batch 1:  Loss: 0.022560307756066322 Accuracy: 0.7819998264312744\n",
      "Epoch 34, CIFAR-10 Batch 2:  Loss: 0.026803821325302124 Accuracy: 0.7767997980117798\n",
      "Epoch 34, CIFAR-10 Batch 3:  Loss: 0.038166798651218414 Accuracy: 0.7761998176574707\n",
      "Epoch 34, CIFAR-10 Batch 4:  Loss: 0.024650346487760544 Accuracy: 0.7789998054504395\n",
      "Epoch 34, CIFAR-10 Batch 5:  Loss: 0.02045057713985443 Accuracy: 0.7833998799324036\n",
      "Epoch 35, CIFAR-10 Batch 1:  Loss: 0.030506327748298645 Accuracy: 0.7827998399734497\n",
      "Epoch 35, CIFAR-10 Batch 2:  Loss: 0.020501764491200447 Accuracy: 0.7871997952461243\n",
      "Epoch 35, CIFAR-10 Batch 3:  Loss: 0.019320465624332428 Accuracy: 0.7801998257637024\n",
      "Epoch 35, CIFAR-10 Batch 4:  Loss: 0.020084433257579803 Accuracy: 0.7863998413085938\n",
      "Epoch 35, CIFAR-10 Batch 5:  Loss: 0.011964945122599602 Accuracy: 0.7847998738288879\n"
     ]
    }
   ],
   "source": [
    "\"\"\"\n",
    "DON'T MODIFY ANYTHING IN THIS CELL\n",
    "\"\"\"\n",
    "save_model_path = './image_classification'\n",
    "\n",
    "print('Training...')\n",
    "with tf.Session() as sess:\n",
    "    # Initializing the variables\n",
    "    sess.run(tf.global_variables_initializer())\n",
    "    \n",
    "    # Training cycle\n",
    "    for epoch in range(epochs):\n",
    "        # Loop over all batches\n",
    "        n_batches = 5\n",
    "        for batch_i in range(1, n_batches + 1):\n",
    "            for batch_features, batch_labels in helper.load_preprocess_training_batch(batch_i, batch_size):\n",
    "                train_neural_network(sess, optimizer, keep_probability, batch_features, batch_labels)\n",
    "            print('Epoch {:>2}, CIFAR-10 Batch {}:  '.format(epoch + 1, batch_i), end='')\n",
    "            print_stats(sess, batch_features, batch_labels, cost, accuracy)\n",
    "            \n",
    "    # Save Model\n",
    "    saver = tf.train.Saver()\n",
    "    save_path = saver.save(sess, save_model_path)"
   ]
  },
  {
   "cell_type": "markdown",
   "metadata": {
    "deletable": true,
    "editable": true
   },
   "source": [
    "# Checkpoint\n",
    "The model has been saved to disk.\n",
    "## Test Model\n",
    "Test your model against the test dataset.  This will be your final accuracy. You should have an accuracy greater than 50%. If you don't, keep tweaking the model architecture and parameters."
   ]
  },
  {
   "cell_type": "code",
   "execution_count": 13,
   "metadata": {
    "collapsed": false,
    "deletable": true,
    "editable": true
   },
   "outputs": [
    {
     "name": "stdout",
     "output_type": "stream",
     "text": [
      "Testing Accuracy: 0.7771954113924051\n",
      "\n"
     ]
    },
    {
     "data": {
      "image/png": "[encoded data removed]",
      "text/plain": [
       "<matplotlib.figure.Figure at 0x7f367be36f60>"
      ]
     },
     "metadata": {
      "image/png": {
       "height": 319,
       "width": 355
      }
     },
     "output_type": "display_data"
    }
   ],
   "source": [
    "\"\"\"\n",
    "DON'T MODIFY ANYTHING IN THIS CELL\n",
    "\"\"\"\n",
    "%matplotlib inline\n",
    "%config InlineBackend.figure_format = 'retina'\n",
    "\n",
    "import tensorflow as tf\n",
    "import pickle\n",
    "import helper\n",
    "import random\n",
    "\n",
    "# Set batch size if not already set\n",
    "try:\n",
    "    if batch_size:\n",
    "        pass\n",
    "except NameError:\n",
    "    batch_size = 64\n",
    "\n",
    "save_model_path = './image_classification'\n",
    "n_samples = 4\n",
    "top_n_predictions = 3\n",
    "\n",
    "def test_model():\n",
    "    \"\"\"\n",
    "    Test the saved model against the test dataset\n",
    "    \"\"\"\n",
    "\n",
    "    test_features, test_labels = pickle.load(open('preprocess_training.p', mode='rb'))\n",
    "    loaded_graph = tf.Graph()\n",
    "\n",
    "    with tf.Session(graph=loaded_graph) as sess:\n",
    "        # Load model\n",
    "        loader = tf.train.import_meta_graph(save_model_path + '.meta')\n",
    "        loader.restore(sess, save_model_path)\n",
    "\n",
    "        # Get Tensors from loaded model\n",
    "        loaded_x = loaded_graph.get_tensor_by_name('x:0')\n",
    "        loaded_y = loaded_graph.get_tensor_by_name('y:0')\n",
    "        loaded_keep_prob = loaded_graph.get_tensor_by_name('keep_prob:0')\n",
    "        loaded_logits = loaded_graph.get_tensor_by_name('logits:0')\n",
    "        loaded_acc = loaded_graph.get_tensor_by_name('accuracy:0')\n",
    "        \n",
    "        # Get accuracy in batches for memory limitations\n",
    "        test_batch_acc_total = 0\n",
    "        test_batch_count = 0\n",
    "        \n",
    "        for train_feature_batch, train_label_batch in helper.batch_features_labels(test_features, test_labels, batch_size):\n",
    "            test_batch_acc_total += sess.run(\n",
    "                loaded_acc,\n",
    "                feed_dict={loaded_x: train_feature_batch, loaded_y: train_label_batch, loaded_keep_prob: 1.0})\n",
    "            test_batch_count += 1\n",
    "\n",
    "        print('Testing Accuracy: {}\\n'.format(test_batch_acc_total/test_batch_count))\n",
    "\n",
    "        # Print Random Samples\n",
    "        random_test_features, random_test_labels = tuple(zip(*random.sample(list(zip(test_features, test_labels)), n_samples)))\n",
    "        random_test_predictions = sess.run(\n",
    "            tf.nn.top_k(tf.nn.softmax(loaded_logits), top_n_predictions),\n",
    "            feed_dict={loaded_x: random_test_features, loaded_y: random_test_labels, loaded_keep_prob: 1.0})\n",
    "        helper.display_image_predictions(random_test_features, random_test_labels, random_test_predictions)\n",
    "\n",
    "\n",
    "test_model()"
   ]
  },
  {
   "cell_type": "markdown",
   "metadata": {
    "deletable": true,
    "editable": true
   },
   "source": [
    "## Why 50-80% Accuracy?\n",
    "You might be wondering why you can't get an accuracy any higher. First things first, 50% isn't bad for a simple CNN.  Pure guessing would get you 10% accuracy. However, you might notice people are getting scores [well above 80%](http://rodrigob.github.io/are_we_there_yet/build/classification_datasets_results.html#43494641522d3130).  That's because we haven't taught you all there is to know about neural networks. We still need to cover a few more techniques.\n",
    "## Submitting This Project\n",
    "When submitting this project, make sure to run all the cells before saving the notebook.  Save the notebook file as \"dlnd_image_classification.ipynb\" and save it as a HTML file under \"File\" -> \"Download as\".  Include the \"helper.py\" and \"problem_unittests.py\" files in your submission."
   ]
  }
 ],
 "metadata": {
  "kernelspec": {
   "display_name": "Python 3",
   "language": "python",
   "name": "python3"
  },
  "language_info": {
   "codemirror_mode": {
    "name": "ipython",
    "version": 3
   },
   "file_extension": ".py",
   "mimetype": "text/x-python",
   "name": "python",
   "nbconvert_exporter": "python",
   "pygments_lexer": "ipython3",
   "version": "3.5.2"
  },
  "widgets": {
   "state": {},
   "version": "1.1.2"
  }
 },
 "nbformat": 4,
 "nbformat_minor": 0
}
